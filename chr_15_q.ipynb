{
 "cells": [
  {
   "cell_type": "code",
   "execution_count": 6,
   "metadata": {},
   "outputs": [
    {
     "name": "stdout",
     "output_type": "stream",
     "text": [
      "Delivery 9872 Product \n",
      " took 6 hours to get a \n",
      " Chess board 2c:Black,Green delivered to your house \n",
      " |/\\/\\/\\/\\_/\\/\\/\\/\\_/\\/\\/\\/\\_/\\/\\/\\/\\_/\\/\\/\\/\\|\n",
      "\n"
     ]
    }
   ],
   "source": [
    "import multiprocessing\n",
    "import os\n",
    "import time\n",
    "import random\n",
    "\n",
    "products = (\"9ftx2ft ladder\", \"Dama board 8x8 2c:Tan&Tan\", \" fake eggs qt:6 \",\n",
    "            \"Chrismas tree c:red,Chrismas tree c:green,Chrismas tree c:blue\",\n",
    "            \" fake eggs qt:2 \",\n",
    "            \"Chrismas tree 6c:red,blue,green,yellow,white,unknown\")\n",
    "hours = 0\n",
    "\n",
    "\n",
    "def delivery(what):\n",
    "  print(\"Delivery %s Product \\n %s\" % (os.getpid(), what))\n",
    "\n",
    "\n",
    "hours = +random.randint(1, 10)\n",
    "time.sleep(hours)\n",
    "product = (\"Chess board 2c:Black,Green\")\n",
    "delivery(f\"took {hours} hours to get a \\n {product} delivered to your house \\n |/\\/\\/\\/\\_/\\/\\/\\/\\_/\\/\\/\\/\\_/\\/\\/\\/\\_/\\/\\/\\/\\|\\n\"\n",
    ")\n",
    "hours = 0\n",
    "\n",
    "for n in range(2):\n",
    "  hours = +random.randint(1, 10)\n",
    "  product = random.choice(products)\n",
    "  time.sleep(hours)\n",
    "  p = multiprocessing.Process(\n",
    "      target=delivery,\n",
    "      args=\n",
    "      (f\"took {hours} hours to get a \\n %s\" %\n",
    "       f\"{product} delivered to your house \\n|/\\/\\/\\/\\_/\\/\\/\\/\\_/\\/\\/\\/\\_/\\/\\/\\/\\_/\\/\\/\\/\\|\\n \",\n",
    "       ))\n",
    "  product = \"none\"\n",
    "  hours = 0\n",
    "  p.start()"
   ]
  }
 ],
 "metadata": {
  "kernelspec": {
   "display_name": "Python 3",
   "language": "python",
   "name": "python3"
  },
  "language_info": {
   "codemirror_mode": {
    "name": "ipython",
    "version": 3
   },
   "file_extension": ".py",
   "mimetype": "text/x-python",
   "name": "python",
   "nbconvert_exporter": "python",
   "pygments_lexer": "ipython3",
   "version": "3.11.6"
  }
 },
 "nbformat": 4,
 "nbformat_minor": 2
}
